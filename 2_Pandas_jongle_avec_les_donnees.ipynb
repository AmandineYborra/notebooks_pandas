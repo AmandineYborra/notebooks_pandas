{
 "cells": [
  {
   "cell_type": "markdown",
   "metadata": {},
   "source": [
    "<img src = \"images/3_logos.png\" width = 600, align = \"center\">\n",
    "<br>\n",
    "<h1 align=center><font size = 5>Pandas jongle avec les données</font></h1>\n",
    "\n",
    "Pandas dispose de nombreuses autres fonctionnaliées de traitement des données afin de faciliter le travail du Data Scientist.<br>\n",
    "\n",
    "Jeux de données utilisés dans ce notebook : \n",
    "- Fulldatad.csv\n",
    "- Marathon.txt\n",
    "- titanic.xls"
   ]
  },
  {
   "cell_type": "code",
   "execution_count": 1,
   "metadata": {},
   "outputs": [],
   "source": [
    "import pandas as pd\n",
    "import numpy as np\n",
    "\n",
    "# Quelque réglages\n",
    "pd.set_option('display.notebook_repr_html', False)\n",
    "pd.set_option('display.max_columns', 20)\n",
    "pd.set_option('display.max_rows', 25)"
   ]
  },
  {
   "cell_type": "markdown",
   "metadata": {},
   "source": [
    "## Données temporelles"
   ]
  },
  {
   "cell_type": "markdown",
   "metadata": {},
   "source": [
    "La librairie `datetime` permet de manipuler le format des données temporelles j'usquà la nanoseconde."
   ]
  },
  {
   "cell_type": "code",
   "execution_count": 2,
   "metadata": {},
   "outputs": [],
   "source": [
    "from datetime import datetime"
   ]
  },
  {
   "cell_type": "code",
   "execution_count": 3,
   "metadata": {},
   "outputs": [
    {
     "data": {
      "text/plain": [
       "datetime.datetime(2019, 1, 6, 13, 36, 0, 861289)"
      ]
     },
     "execution_count": 3,
     "metadata": {},
     "output_type": "execute_result"
    }
   ],
   "source": [
    "now = datetime.now()\n",
    "now"
   ]
  },
  {
   "cell_type": "code",
   "execution_count": 4,
   "metadata": {},
   "outputs": [
    {
     "data": {
      "text/plain": [
       "6"
      ]
     },
     "execution_count": 4,
     "metadata": {},
     "output_type": "execute_result"
    }
   ],
   "source": [
    "now.day"
   ]
  },
  {
   "cell_type": "code",
   "execution_count": 5,
   "metadata": {},
   "outputs": [
    {
     "data": {
      "text/plain": [
       "6"
      ]
     },
     "execution_count": 5,
     "metadata": {},
     "output_type": "execute_result"
    }
   ],
   "source": [
    "now.weekday()"
   ]
  },
  {
   "cell_type": "markdown",
   "metadata": {},
   "source": [
    "D'autres objets, plus simples, permettent de gérer les dates et les heures séparément :"
   ]
  },
  {
   "cell_type": "code",
   "execution_count": 6,
   "metadata": {},
   "outputs": [],
   "source": [
    "from datetime import date, time"
   ]
  },
  {
   "cell_type": "code",
   "execution_count": 7,
   "metadata": {},
   "outputs": [
    {
     "data": {
      "text/plain": [
       "datetime.time(13, 24)"
      ]
     },
     "execution_count": 7,
     "metadata": {},
     "output_type": "execute_result"
    }
   ],
   "source": [
    "time(13, 24)"
   ]
  },
  {
   "cell_type": "code",
   "execution_count": 8,
   "metadata": {},
   "outputs": [
    {
     "data": {
      "text/plain": [
       "datetime.date(2015, 9, 3)"
      ]
     },
     "execution_count": 8,
     "metadata": {},
     "output_type": "execute_result"
    }
   ],
   "source": [
    "d=date(2015, 9, 3)\n",
    "d"
   ]
  },
  {
   "cell_type": "code",
   "execution_count": 9,
   "metadata": {},
   "outputs": [
    {
     "data": {
      "text/plain": [
       "'03/09/15'"
      ]
     },
     "execution_count": 9,
     "metadata": {},
     "output_type": "execute_result"
    }
   ],
   "source": [
    "d.strftime(\"%d/%m/%y\")"
   ]
  },
  {
   "cell_type": "markdown",
   "metadata": {},
   "source": [
    "Les opérations sur les dates sont facilitées :"
   ]
  },
  {
   "cell_type": "code",
   "execution_count": 10,
   "metadata": {},
   "outputs": [
    {
     "data": {
      "text/plain": [
       "datetime.timedelta(days=17657, seconds=48960, microseconds=861289)"
      ]
     },
     "execution_count": 10,
     "metadata": {},
     "output_type": "execute_result"
    }
   ],
   "source": [
    "age = now - datetime(1970, 9, 3)\n",
    "age"
   ]
  },
  {
   "cell_type": "code",
   "execution_count": 11,
   "metadata": {},
   "outputs": [
    {
     "data": {
      "text/plain": [
       "48.37534246575343"
      ]
     },
     "execution_count": 11,
     "metadata": {},
     "output_type": "execute_result"
    }
   ],
   "source": [
    "age.days/365."
   ]
  },
  {
   "cell_type": "code",
   "execution_count": 12,
   "metadata": {},
   "outputs": [
    {
     "data": {
      "text/plain": [
       "                Name Nationality National_Position  National_Kit  \\\n",
       "0  Cristiano Ronaldo    Portugal                LS           7.0   \n",
       "1       Lionel Messi   Argentina                RW          10.0   \n",
       "2             Neymar      Brazil                LW          10.0   \n",
       "3        Luis Suárez     Uruguay                LS           9.0   \n",
       "4       Manuel Neuer     Germany                GK           1.0   \n",
       "\n",
       "           Club Club_Position  Club_Kit Club_Joining  Contract_Expiry  Rating  \\\n",
       "0   Real Madrid            LW       7.0   07/01/2009           2021.0      94   \n",
       "1  FC Barcelona            RW      10.0   07/01/2004           2018.0      93   \n",
       "2  FC Barcelona            LW      11.0   07/01/2013           2021.0      92   \n",
       "3  FC Barcelona            ST       9.0   07/11/2014           2021.0      92   \n",
       "4     FC Bayern            GK       1.0   07/01/2011           2021.0      92   \n",
       "\n",
       "      ...      Long_Shots Curve Freekick_Accuracy Penalties  Volleys  \\\n",
       "0     ...              90    81                76        85       88   \n",
       "1     ...              88    89                90        74       85   \n",
       "2     ...              77    79                84        81       83   \n",
       "3     ...              86    86                84        85       88   \n",
       "4     ...              16    14                11        47       11   \n",
       "\n",
       "  GK_Positioning GK_Diving  GK_Kicking  GK_Handling  GK_Reflexes  \n",
       "0             14         7          15           11           11  \n",
       "1             14         6          15           11            8  \n",
       "2             15         9          15            9           11  \n",
       "3             33        27          31           25           37  \n",
       "4             91        89          95           90           89  \n",
       "\n",
       "[5 rows x 53 columns]"
      ]
     },
     "execution_count": 12,
     "metadata": {},
     "output_type": "execute_result"
    }
   ],
   "source": [
    "football = pd.read_csv(\"C:/Users/Dell/Desktop/td_python/data/fulldata.csv\")\n",
    "football.head()"
   ]
  },
  {
   "cell_type": "code",
   "execution_count": 13,
   "metadata": {},
   "outputs": [
    {
     "data": {
      "text/plain": [
       "dtype('O')"
      ]
     },
     "execution_count": 13,
     "metadata": {},
     "output_type": "execute_result"
    }
   ],
   "source": [
    "football.Club_Joining.dtype"
   ]
  },
  {
   "cell_type": "markdown",
   "metadata": {},
   "source": [
    "La première étape consiste à convertir les données temporelles au bon format."
   ]
  },
  {
   "cell_type": "markdown",
   "metadata": {},
   "source": [
    "Le package `dateutil` inclu un parser qui detecte le format dans les chaines de caractères et les converti automatiquement."
   ]
  },
  {
   "cell_type": "code",
   "execution_count": 14,
   "metadata": {},
   "outputs": [],
   "source": [
    "from dateutil.parser import parse"
   ]
  },
  {
   "cell_type": "code",
   "execution_count": 15,
   "metadata": {},
   "outputs": [
    {
     "data": {
      "text/plain": [
       "datetime.datetime(2009, 7, 1, 0, 0)"
      ]
     },
     "execution_count": 15,
     "metadata": {},
     "output_type": "execute_result"
    }
   ],
   "source": [
    "parse(football.Club_Joining.loc[0])"
   ]
  },
  {
   "cell_type": "code",
   "execution_count": 16,
   "metadata": {},
   "outputs": [
    {
     "data": {
      "text/plain": [
       "                Name Nationality National_Position  National_Kit  \\\n",
       "0  Cristiano Ronaldo    Portugal                LS           7.0   \n",
       "1       Lionel Messi   Argentina                RW          10.0   \n",
       "2             Neymar      Brazil                LW          10.0   \n",
       "3        Luis Suárez     Uruguay                LS           9.0   \n",
       "4       Manuel Neuer     Germany                GK           1.0   \n",
       "\n",
       "           Club Club_Position  Club_Kit Club_Joining  Contract_Expiry  Rating  \\\n",
       "0   Real Madrid            LW       7.0   07/01/2009           2021.0      94   \n",
       "1  FC Barcelona            RW      10.0   07/01/2004           2018.0      93   \n",
       "2  FC Barcelona            LW      11.0   07/01/2013           2021.0      92   \n",
       "3  FC Barcelona            ST       9.0   07/11/2014           2021.0      92   \n",
       "4     FC Bayern            GK       1.0   07/01/2011           2021.0      92   \n",
       "\n",
       "      ...      Long_Shots Curve Freekick_Accuracy Penalties  Volleys  \\\n",
       "0     ...              90    81                76        85       88   \n",
       "1     ...              88    89                90        74       85   \n",
       "2     ...              77    79                84        81       83   \n",
       "3     ...              86    86                84        85       88   \n",
       "4     ...              16    14                11        47       11   \n",
       "\n",
       "  GK_Positioning GK_Diving  GK_Kicking  GK_Handling  GK_Reflexes  \n",
       "0             14         7          15           11           11  \n",
       "1             14         6          15           11            8  \n",
       "2             15         9          15            9           11  \n",
       "3             33        27          31           25           37  \n",
       "4             91        89          95           90           89  \n",
       "\n",
       "[5 rows x 53 columns]"
      ]
     },
     "execution_count": 16,
     "metadata": {},
     "output_type": "execute_result"
    }
   ],
   "source": [
    "football.head()"
   ]
  },
  {
   "cell_type": "markdown",
   "metadata": {},
   "source": [
    "Pandas dispose de la méthode `to_datetime` qui parse and et converti une Series de chaines de caracrtères formatées en un format `datetime`."
   ]
  },
  {
   "cell_type": "code",
   "execution_count": 17,
   "metadata": {},
   "outputs": [
    {
     "data": {
      "text/plain": [
       "0       2009-07-01\n",
       "1       2004-07-01\n",
       "2       2013-07-01\n",
       "3       2014-07-11\n",
       "4       2011-07-01\n",
       "5       2011-07-01\n",
       "6       2014-07-01\n",
       "7       2013-09-02\n",
       "8       2016-07-01\n",
       "9       2011-07-26\n",
       "10      2011-07-14\n",
       "11      2012-07-01\n",
       "           ...    \n",
       "17576   2015-05-05\n",
       "17577   2014-09-01\n",
       "17578   2016-09-21\n",
       "17579   2016-08-30\n",
       "17580   2016-12-02\n",
       "17581   2015-06-30\n",
       "17582   2016-01-01\n",
       "17583   2016-02-01\n",
       "17584   2016-01-01\n",
       "17585   2015-03-03\n",
       "17586   2016-03-02\n",
       "17587   2014-01-30\n",
       "Name: Club_Joining, Length: 17588, dtype: datetime64[ns]"
      ]
     },
     "execution_count": 17,
     "metadata": {},
     "output_type": "execute_result"
    }
   ],
   "source": [
    "pd.to_datetime(football.Club_Joining)"
   ]
  },
  {
   "cell_type": "markdown",
   "metadata": {},
   "source": [
    "Bien entendu pour les valeurs manquantes Pandas asignalera les cellules par `NaT`."
   ]
  },
  {
   "cell_type": "code",
   "execution_count": 18,
   "metadata": {},
   "outputs": [
    {
     "data": {
      "text/plain": [
       "DatetimeIndex(['NaT'], dtype='datetime64[ns]', freq=None)"
      ]
     },
     "execution_count": 18,
     "metadata": {},
     "output_type": "execute_result"
    }
   ],
   "source": [
    "pd.to_datetime([None])"
   ]
  },
  {
   "cell_type": "markdown",
   "metadata": {},
   "source": [
    "## Opérations sur les DataFrames"
   ]
  },
  {
   "cell_type": "markdown",
   "metadata": {},
   "source": [
    "6 Opérations principales issues de SQL ou de Excel sont disponibles :<br>\n",
    "- filter : on sélectionne un sous-ensemble de lignes qui vérifie une condition\n",
    "- union : concaténation de deux jeux de données \n",
    "- sort : tri\n",
    "- group by : grouper des lignes qui partagent une valeur commune\n",
    "- join : fusionner deux jeux de données en associant les lignes qui partagent une valeur commune\n",
    "- pivot : utiliser des valeurs présentes dans colonne comme noms de colonnes\n"
   ]
  },
  {
   "cell_type": "markdown",
   "metadata": {},
   "source": [
    "Pour la suite de ce Notebook , nous alons utiliser les données contenues dans le fichier data/Marathon.txt."
   ]
  },
  {
   "cell_type": "code",
   "execution_count": 19,
   "metadata": {},
   "outputs": [
    {
     "name": "stdout",
     "output_type": "stream",
     "text": [
      "Index(['ville', 'annee', 'temps', 'secondes'], dtype='object')\n",
      "villes {'CHICAGO', 'BERLIN', 'FUKUOKA', 'NEW YORK', 'AMSTERDAM', 'BOSTON', 'STOCKOLM', 'LONDON', 'PARIS'}\n",
      "annee [1947, 1948, 1949, 1950, 1951, 1952, 1953, 1954, 1955, 1956, 1957, 1958, 1959, 1960, 1961, 1962, 1963, 1964, 1965, 1966, 1967, 1968, 1969, 1970, 1971, 1972, 1973, 1974, 1975, 1976, 1977, 1978, 1979, 1980, 1981, 1982, 1983, 1984, 1985, 1986, 1987, 1988, 1989, 1990, 1991, 1992, 1993, 1994, 1995, 1996, 1997, 1998, 1999, 2000, 2001, 2002, 2003, 2004, 2005, 2006, 2007, 2008, 2009, 2010, 2011]\n"
     ]
    }
   ],
   "source": [
    "data = pd.read_csv(\"C:/Users/Dell/Desktop/td_python/data/marathon.txt\", sep=\"\\t\", names=[\"ville\", \"annee\", \"temps\",\"secondes\"])\n",
    "print(data.columns)\n",
    "print(\"villes\",set(data.ville))\n",
    "print(\"annee\",list(set(data.annee)))"
   ]
  },
  {
   "cell_type": "markdown",
   "metadata": {},
   "source": [
    "### Filtrage\n",
    "De nombreuses opération de filtrage sont possibles dans Pandas : <br>\n",
    "<ul><li><a href=\"http://pandas.pydata.org/pandas-docs/stable/generated/pandas.DataFrame.filter.html\">filter</a>,\n",
    "<a class=\"reference external\" href=\"http://pandas.pydata.org/pandas-docs/stable/generated/pandas.DataFrame.mask.html\">mask</a>,<a class=\"reference external\" href=\"http://pandas.pydata.org/pandas-docs/stable/generated/pandas.DataFrame.where.html\">where</a></li>\n",
    "<li><a class=\"reference external\" href=\"http://stackoverflow.com/questions/11869910/pandas-filter-rows-of-dataframe-with-operator-chaining\">pandas: filter rows of DataFrame with operator\n",
    "chaining</a></li>\n",
    "<li><a class=\"reference external\" href=\"http://pandas.pydata.org/pandas-docs/stable/indexing.html\">Indexing and Selecting\n",
    "Data</a></li></ul>\n"
   ]
  },
  {
   "cell_type": "code",
   "execution_count": 20,
   "metadata": {},
   "outputs": [
    {
     "data": {
      "text/plain": [
       "        ville  annee     temps  secondes\n",
       "112   FUKUOKA   1971  02:12:51      7971\n",
       "204  NEW YORK   1971  02:22:54      8574\n",
       "285    BOSTON   1971  02:18:45      8325"
      ]
     },
     "execution_count": 20,
     "metadata": {},
     "output_type": "execute_result"
    }
   ],
   "source": [
    "m_71 = data[ data.annee == 1971 ]\n",
    "m_71"
   ]
  },
  {
   "cell_type": "code",
   "execution_count": 21,
   "metadata": {},
   "outputs": [
    {
     "data": {
      "text/plain": [
       "      ville  annee     temps  secondes\n",
       "285  BOSTON   1971  02:18:45      8325"
      ]
     },
     "execution_count": 21,
     "metadata": {},
     "output_type": "execute_result"
    }
   ],
   "source": [
    "m_71_Bos = data [ (data.annee == 1971) &  (data.ville=='BOSTON')]\n",
    "m_71_Bos.head()"
   ]
  },
  {
   "cell_type": "markdown",
   "metadata": {},
   "source": [
    "Il est aussi possible d'utiliser la méthode `query`"
   ]
  },
  {
   "cell_type": "code",
   "execution_count": 22,
   "metadata": {},
   "outputs": [
    {
     "data": {
      "text/plain": [
       "      ville  annee     temps  secondes\n",
       "285  BOSTON   1971  02:18:45      8325"
      ]
     },
     "execution_count": 22,
     "metadata": {},
     "output_type": "execute_result"
    }
   ],
   "source": [
    "m_71_Bos = data.query( '(annee == 1971) & (ville == \"BOSTON\")')\n",
    "m_71_Bos"
   ]
  },
  {
   "cell_type": "markdown",
   "metadata": {},
   "source": [
    "### Jointures\n",
    "Pour plus d'infos : <br>\n",
    "<ul>\n",
    "<li><a href=\"http://pandas.pydata.org/pandas-docs/stable/generated/pandas.concat.html\">concat</a></li>\n",
    "<li><a href=\"http://pandas.pydata.org/pandas-docs/stable/merging.html\">Merge, join, and\n",
    "concatenate</a></li>\n",
    "</ul>"
   ]
  },
  {
   "cell_type": "code",
   "execution_count": 23,
   "metadata": {},
   "outputs": [
    {
     "data": {
      "text/plain": [
       "((359, 4), (718, 4))"
      ]
     },
     "execution_count": 23,
     "metadata": {},
     "output_type": "execute_result"
    }
   ],
   "source": [
    "concat_ligne = pd.concat((data,data))\n",
    "data.shape,concat_ligne.shape"
   ]
  },
  {
   "cell_type": "code",
   "execution_count": 24,
   "metadata": {},
   "outputs": [
    {
     "data": {
      "text/plain": [
       "((359, 4), (359, 8))"
      ]
     },
     "execution_count": 24,
     "metadata": {},
     "output_type": "execute_result"
    }
   ],
   "source": [
    "concat_col = pd.concat((data,data), axis=1)\n",
    "data.shape,concat_col.shape"
   ]
  },
  {
   "cell_type": "markdown",
   "metadata": {},
   "source": [
    "### Sort : Le tri"
   ]
  },
  {
   "cell_type": "code",
   "execution_count": 25,
   "metadata": {},
   "outputs": [
    {
     "data": {
      "text/plain": [
       "        ville  annee     temps  secondes\n",
       "35     BERLIN   2011  02:03:38      7418\n",
       "325    BOSTON   2011  02:03:02      7382\n",
       "202    LONDON   2011  02:04:40      7480\n",
       "0       PARIS   2011  02:06:29      7589\n",
       "276  STOCKOLM   2011  02:14:07      8047"
      ]
     },
     "execution_count": 25,
     "metadata": {},
     "output_type": "execute_result"
    }
   ],
   "source": [
    "tri = data.sort_values( [\"annee\", \"ville\"], ascending=[0,1])\n",
    "tri.head()"
   ]
  },
  {
   "cell_type": "markdown",
   "metadata": {},
   "source": [
    "### Group by"
   ]
  },
  {
   "cell_type": "markdown",
   "metadata": {},
   "source": [
    "Cette opération consiste à grouper les lignes qui partagent une caractéristique commune \n",
    "<ul class=\"simple\">\n",
    "<li><a class=\"reference external\" href=\"http://pandas.pydata.org/pandas-docs/stable/generated/pandas.DataFrame.groupby.html\">groupby</a></li>\n",
    "<li><a class=\"reference external\" href=\"http://pandas.pydata.org/pandas-docs/stable/generated/pandas.DataFrame.sum.html\">sum</a>,\n",
    "<a class=\"reference external\" href=\"http://pandas.pydata.org/pandas-docs/stable/generated/pandas.DataFrame.cumsum.html\">cumsum</a>,\n",
    "<a class=\"reference external\" href=\"http://pandas.pydata.org/pandas-docs/stable/generated/pandas.DataFrame.mean.html\">mean</a>,\n",
    "<a class=\"reference external\" href=\"http://pandas.pydata.org/pandas-docs/stable/generated/pandas.DataFrame.count.html\">count</a></li>\n",
    "<li><a class=\"reference external\" href=\"http://sql.sh/cours/group-by\">SQL GROUP BY</a></li>\n",
    "<li><a class=\"reference external\" href=\"http://pandas.pydata.org/pandas-docs/dev/groupby.html\">Group By:\n",
    "split-apply-combine</a></li>\n",
    "<li><a class=\"reference external\" href=\"http://stackoverflow.com/questions/15322632/python-pandas-df-groupby-agg-column-reference-in-agg\">group by\n",
    "customisé</a></li>\n",
    "<li><a class=\"reference external\" href=\"http://stackoverflow.com/questions/32188867/fast-way-to-get-index-of-top-k-elements-of-every-column-in-a-pandas-dataframe\">fast way to get index of top-k elements of every column in a pandas\n",
    "dataframe</a></li>\n",
    "</ul>"
   ]
  },
  {
   "cell_type": "code",
   "execution_count": 26,
   "metadata": {},
   "outputs": [
    {
     "data": {
      "text/plain": [
       "<pandas.core.groupby.groupby.DataFrameGroupBy object at 0x0000021A424242B0>"
      ]
     },
     "execution_count": 26,
     "metadata": {},
     "output_type": "execute_result"
    }
   ],
   "source": [
    "group = data.groupby('annee')\n",
    "group"
   ]
  },
  {
   "cell_type": "code",
   "execution_count": 27,
   "metadata": {},
   "outputs": [
    {
     "data": {
      "text/plain": [
       "       ville  temps  secondes\n",
       "annee                        \n",
       "2011       5      5         5\n",
       "2010       9      9         9\n",
       "2009       9      9         9\n",
       "2008       9      9         9\n",
       "2007       9      9         9"
      ]
     },
     "execution_count": 27,
     "metadata": {},
     "output_type": "execute_result"
    }
   ],
   "source": [
    "nb = group.count()\n",
    "nb.sort_index(ascending=False).head()"
   ]
  },
  {
   "cell_type": "code",
   "execution_count": 28,
   "metadata": {},
   "outputs": [
    {
     "data": {
      "text/plain": [
       "       secondes\n",
       "annee          \n",
       "2011      37916\n",
       "2010      68673\n",
       "2009      68873\n",
       "2008      68932\n",
       "2007      70076"
      ]
     },
     "execution_count": 28,
     "metadata": {},
     "output_type": "execute_result"
    }
   ],
   "source": [
    "nb = group.sum()\n",
    "nb.sort_index(ascending=False).head(5)"
   ]
  },
  {
   "cell_type": "code",
   "execution_count": 29,
   "metadata": {},
   "outputs": [
    {
     "data": {
      "text/plain": [
       "          secondes\n",
       "annee             \n",
       "2011   7583.200000\n",
       "2010   7630.333333\n",
       "2009   7652.555556\n",
       "2008   7659.111111\n",
       "2007   7786.222222"
      ]
     },
     "execution_count": 29,
     "metadata": {},
     "output_type": "execute_result"
    }
   ],
   "source": [
    "nb = group.mean()\n",
    "nb.sort_index(ascending=False).head()"
   ]
  },
  {
   "cell_type": "markdown",
   "metadata": {},
   "source": [
    "Il est toujours possible d'aggréger les résultats avec une fonction personalisée :"
   ]
  },
  {
   "cell_type": "code",
   "execution_count": 30,
   "metadata": {},
   "outputs": [
    {
     "data": {
      "text/plain": [
       "   annee  secondes\n",
       "0   1947      9945\n",
       "1   1948      9445\n",
       "2   1949      9626\n",
       "3   1950      9047\n",
       "4   1951      9013"
      ]
     },
     "execution_count": 30,
     "metadata": {},
     "output_type": "execute_result"
    }
   ],
   "source": [
    "def avg_entier(x):\n",
    "    return int(x.mean())\n",
    "nb = data[[\"annee\",\"secondes\"]].groupby(\"annee\").agg(avg_entier).reset_index()\n",
    "nb.head()"
   ]
  },
  {
   "cell_type": "markdown",
   "metadata": {},
   "source": [
    "On veut extraire les deux meilleurs temps par ville :"
   ]
  },
  {
   "cell_type": "code",
   "execution_count": 31,
   "metadata": {},
   "outputs": [],
   "source": [
    "series = data.groupby([\"ville\"]).apply(lambda r: r[\"secondes\"].nsmallest(2))"
   ]
  },
  {
   "cell_type": "code",
   "execution_count": 32,
   "metadata": {},
   "outputs": [],
   "source": [
    "indices = [t[1] for t in series.index]"
   ]
  },
  {
   "cell_type": "code",
   "execution_count": 33,
   "metadata": {},
   "outputs": [
    {
     "data": {
      "text/plain": [
       "         ville  annee     temps  secondes\n",
       "171  AMSTERDAM   2010  02:05:44      7544\n",
       "170  AMSTERDAM   2009  02:06:18      7578\n",
       "35      BERLIN   2011  02:03:38      7418\n",
       "38      BERLIN   2008  02:03:59      7439\n",
       "325     BOSTON   2011  02:03:02      7382\n",
       "324     BOSTON   2010  02:05:52      7552\n",
       "357    CHICAGO   2009  02:05:41      7541\n",
       "347    CHICAGO   1999  02:05:42      7542\n",
       "74     FUKUOKA   2009  02:05:18      7518\n",
       "75     FUKUOKA   2008  02:06:10      7570"
      ]
     },
     "execution_count": 33,
     "metadata": {},
     "output_type": "execute_result"
    }
   ],
   "source": [
    "data.loc[indices].head(10)"
   ]
  },
  {
   "cell_type": "markdown",
   "metadata": {},
   "source": [
    "### join (merge ou fusion)\n",
    "<p>Fusionner deux tables consiste à apparier les lignes de la première\n",
    "table avec celle de la seconde si certaines colonnes de ces lignes\n",
    "partagent les mêmes valeurs. On distingue quatre cas :</p>\n",
    "<ul class=\"simple\">\n",
    "<li><code class=\"docutils literal\"><span class=\"pre\">INNER</span> <span class=\"pre\">JOIN</span></code> - <strong>inner</strong> : on garde tous les appariements réussis</li>\n",
    "<li><code class=\"docutils literal\"><span class=\"pre\">LEFT</span> <span class=\"pre\">OUTER</span> <span class=\"pre\">JOIN</span></code> - <strong>left</strong> : on garde tous les appariements\n",
    "réussis et les lignes non appariées de la table de gauche</li>\n",
    "<li><code class=\"docutils literal\"><span class=\"pre\">RIGHT</span> <span class=\"pre\">OUTER</span> <span class=\"pre\">JOIN</span></code> - <strong>right</strong> : on garde tous les appariements\n",
    "réussis et les lignes non appariées de la table de droite</li>\n",
    "<li><code class=\"docutils literal\"><span class=\"pre\">FULL</span> <span class=\"pre\">OUTER</span> <span class=\"pre\">JOIN</span></code> - <strong>outer</strong> : on garde tous les appariements\n",
    "réussis et les lignes non appariées des deux tables</li>"
   ]
  },
  {
   "cell_type": "markdown",
   "metadata": {},
   "source": [
    "On souhaite ajouter une colonne pays aux marathons se déroulant dans les villes suivantes."
   ]
  },
  {
   "cell_type": "code",
   "execution_count": 34,
   "metadata": {},
   "outputs": [
    {
     "data": {
      "text/plain": [
       "         C         V\n",
       "0      USA    BOSTON\n",
       "1      USA  NEW YORK\n",
       "2  Germany    BERLIN\n",
       "3       UK    LONDON\n",
       "4   France     PARIS"
      ]
     },
     "execution_count": 34,
     "metadata": {},
     "output_type": "execute_result"
    }
   ],
   "source": [
    "new = [  {\"V\":'BOSTON', \"C\":\"USA\"},\n",
    "            {\"V\":'NEW YORK', \"C\":\"USA\"},\n",
    "            {\"V\":'BERLIN', \"C\":\"Germany\"},\n",
    "            {\"V\":'LONDON', \"C\":\"UK\"},\n",
    "            {\"V\":'PARIS', \"C\":\"France\"}]\n",
    "pays = pd.DataFrame(new)\n",
    "pays"
   ]
  },
  {
   "cell_type": "code",
   "execution_count": 35,
   "metadata": {},
   "outputs": [
    {
     "data": {
      "text/plain": [
       "      ville  annee     temps  secondes       C       V\n",
       "0     PARIS   2011  02:06:29      7589  France   PARIS\n",
       "1     PARIS   2010  02:06:41      7601  France   PARIS\n",
       "189  BOSTON   2007  02:14:13      8053     USA  BOSTON\n",
       "190  BOSTON   2008  02:07:45      7665     USA  BOSTON\n",
       "191  BOSTON   2009  02:08:42      7722     USA  BOSTON\n",
       "192  BOSTON   2010  02:05:52      7552     USA  BOSTON\n",
       "193  BOSTON   2011  02:03:02      7382     USA  BOSTON"
      ]
     },
     "execution_count": 35,
     "metadata": {},
     "output_type": "execute_result"
    }
   ],
   "source": [
    "data_pays = data.merge(pays, left_on=\"ville\", right_on=\"V\")\n",
    "pd.concat([data_pays.head(n=2),data_pays.tail()])"
   ]
  },
  {
   "cell_type": "markdown",
   "metadata": {},
   "source": [
    "### pivot (tableau croisé dynamique)\n",
    "\n",
    "Cette opération consiste à créer une seconde table en utilisant utiliser les valeurs d’une colonne comme nom de colonnes.\n",
    "<ul class=\"simple\">\n",
    "<li><a class=\"reference external\" href=\"http://pandas.pydata.org/pandas-docs/stable/generated/pandas.DataFrame.pivot.html\">pivot</a>,\n",
    "<a class=\"reference external\" href=\"http://pandas.pydata.org/pandas-docs/stable/generated/pandas.tools.pivot.pivot_table.html\">pivot_table</a></li>\n",
    "<li><a class=\"reference external\" href=\"http://pandas.pydata.org/pandas-docs/stable/reshaping.html\">Reshaping and Pivot\n",
    "Tables</a></li>\n",
    "<li><a class=\"reference external\" href=\"http://fr.wikipedia.org/wiki/Tableau_crois%C3%A9_dynamique\">Tableau croisé dynamique -\n",
    "wikipédia</a></li>\n",
    "</ul>"
   ]
  },
  {
   "cell_type": "code",
   "execution_count": 36,
   "metadata": {},
   "outputs": [
    {
     "data": {
      "text/plain": [
       "ville AMSTERDAM    BERLIN    BOSTON   CHICAGO   FUKUOKA    LONDON  NEW YORK  \\\n",
       "annee                                                                         \n",
       "1947        NaN       NaN       NaN       NaN  02:45:45       NaN       NaN   \n",
       "1948        NaN       NaN       NaN       NaN  02:37:25       NaN       NaN   \n",
       "1949        NaN       NaN       NaN       NaN  02:40:26       NaN       NaN   \n",
       "1950        NaN       NaN       NaN       NaN  02:30:47       NaN       NaN   \n",
       "1951        NaN       NaN       NaN       NaN  02:30:13       NaN       NaN   \n",
       "1952        NaN       NaN       NaN       NaN  02:27:59       NaN       NaN   \n",
       "1953        NaN       NaN       NaN       NaN  02:27:26       NaN       NaN   \n",
       "1954        NaN       NaN       NaN       NaN  02:24:55       NaN       NaN   \n",
       "1955        NaN       NaN       NaN       NaN  02:23:16       NaN       NaN   \n",
       "1956        NaN       NaN       NaN       NaN  02:25:15       NaN       NaN   \n",
       "1957        NaN       NaN       NaN       NaN  02:21:40       NaN       NaN   \n",
       "1958        NaN       NaN       NaN       NaN  02:24:01       NaN       NaN   \n",
       "...         ...       ...       ...       ...       ...       ...       ...   \n",
       "2000   02:08:57  02:07:42  02:09:47  02:07:01  02:06:51  02:06:36  02:10:09   \n",
       "2001   02:07:02  02:08:47  02:09:43  02:08:52  02:09:25  02:07:09  02:07:43   \n",
       "2002   02:07:26  02:06:47  02:09:02  02:05:56  02:09:13  02:05:38  02:08:07   \n",
       "2003   02:06:39  02:04:55  02:10:11  02:05:50  02:07:52  02:07:56  02:10:30   \n",
       "2004   02:06:22  02:06:44  02:10:37  02:06:16  02:09:10  02:06:18  02:09:28   \n",
       "2005   02:06:20  02:07:41  02:11:44  02:07:02  02:08:29  02:07:35  02:09:30   \n",
       "2006   02:08:52  02:05:56  02:07:14  02:07:35  02:06:52  02:06:39  02:09:58   \n",
       "2007   02:06:29  02:04:26  02:14:13  02:11:11  02:06:39  02:07:41  02:09:04   \n",
       "2008   02:07:52  02:03:59  02:07:45  02:06:25  02:06:10  02:05:15  02:08:43   \n",
       "2009   02:06:18  02:06:08  02:08:42  02:05:41  02:05:18  02:05:10  02:09:15   \n",
       "2010   02:05:44  02:05:08  02:05:52  02:06:23  02:08:24  02:05:19  02:08:14   \n",
       "2011        NaN  02:03:38  02:03:02       NaN       NaN  02:04:40       NaN   \n",
       "\n",
       "ville     PARIS  STOCKOLM  \n",
       "annee                      \n",
       "1947        NaN       NaN  \n",
       "1948        NaN       NaN  \n",
       "1949        NaN       NaN  \n",
       "1950        NaN       NaN  \n",
       "1951        NaN       NaN  \n",
       "1952        NaN       NaN  \n",
       "1953        NaN       NaN  \n",
       "1954        NaN       NaN  \n",
       "1955        NaN       NaN  \n",
       "1956        NaN       NaN  \n",
       "1957        NaN       NaN  \n",
       "1958        NaN       NaN  \n",
       "...         ...       ...  \n",
       "2000   02:08:49  02:18:49  \n",
       "2001   02:09:40  02:18:17  \n",
       "2002   02:08:18  02:18:20  \n",
       "2003   02:06:33  02:18:14  \n",
       "2004   02:08:56  02:16:12  \n",
       "2005   02:08:02  02:13:28  \n",
       "2006   02:08:03  02:17:01  \n",
       "2007   02:07:17  02:20:56  \n",
       "2008   02:06:40  02:16:03  \n",
       "2009   02:05:47  02:15:34  \n",
       "2010   02:06:41  02:12:48  \n",
       "2011   02:06:29  02:14:07  \n",
       "\n",
       "[65 rows x 9 columns]"
      ]
     },
     "execution_count": 36,
     "metadata": {},
     "output_type": "execute_result"
    }
   ],
   "source": [
    "piv = data.pivot(\"annee\",\"ville\",\"temps\")\n",
    "piv"
   ]
  },
  {
   "cell_type": "code",
   "execution_count": 37,
   "metadata": {},
   "outputs": [
    {
     "data": {
      "text/plain": [
       "   pclass  survived                                             name     sex  \\\n",
       "0       1         1                    Allen, Miss. Elisabeth Walton  female   \n",
       "1       1         1                   Allison, Master. Hudson Trevor    male   \n",
       "2       1         0                     Allison, Miss. Helen Loraine  female   \n",
       "3       1         0             Allison, Mr. Hudson Joshua Creighton    male   \n",
       "4       1         0  Allison, Mrs. Hudson J C (Bessie Waldo Daniels)  female   \n",
       "\n",
       "       age  sibsp  parch  ticket      fare    cabin embarked boat   body  \\\n",
       "0  29.0000      0      0   24160  211.3375       B5        S    2    NaN   \n",
       "1   0.9167      1      2  113781  151.5500  C22 C26        S   11    NaN   \n",
       "2   2.0000      1      2  113781  151.5500  C22 C26        S  NaN    NaN   \n",
       "3  30.0000      1      2  113781  151.5500  C22 C26        S  NaN  135.0   \n",
       "4  25.0000      1      2  113781  151.5500  C22 C26        S  NaN    NaN   \n",
       "\n",
       "                         home.dest  \n",
       "0                     St Louis, MO  \n",
       "1  Montreal, PQ / Chesterville, ON  \n",
       "2  Montreal, PQ / Chesterville, ON  \n",
       "3  Montreal, PQ / Chesterville, ON  \n",
       "4  Montreal, PQ / Chesterville, ON  "
      ]
     },
     "execution_count": 37,
     "metadata": {},
     "output_type": "execute_result"
    }
   ],
   "source": [
    "titanic = pd.read_excel(\"C:/Users/Dell/Desktop/td_python/data/titanic.xls\")\n",
    "titanic.head()"
   ]
  },
  {
   "cell_type": "markdown",
   "metadata": {},
   "source": [
    "Femmes et enfants d'abord ?\n",
    "\n",
    "1. Utiliser `groupby` pour calculer la proportion de survivants par sexe.\n",
    "2. Calculer la même proportion, mais cette fois ci par class et sexe.\n",
    "3. Créer une catégorie age : enfants (moins de 14 ans), adolescents (14-20), adultes (21-64), et senior(65+), puis calculer les proportions de survivants par age categorie, classe et sexe."
   ]
  },
  {
   "cell_type": "code",
   "execution_count": 40,
   "metadata": {},
   "outputs": [
    {
     "data": {
      "text/plain": [
       "sex\n",
       "female    339\n",
       "male      161\n",
       "Name: survived, dtype: int64"
      ]
     },
     "execution_count": 40,
     "metadata": {},
     "output_type": "execute_result"
    }
   ],
   "source": [
    "titanic.groupby('sex').survived.sum()"
   ]
  },
  {
   "cell_type": "code",
   "execution_count": 46,
   "metadata": {},
   "outputs": [
    {
     "data": {
      "text/plain": [
       "sex     pclass\n",
       "female  1         139\n",
       "        2          94\n",
       "        3         106\n",
       "male    1          61\n",
       "        2          25\n",
       "        3          75\n",
       "Name: survived, dtype: int64"
      ]
     },
     "execution_count": 46,
     "metadata": {},
     "output_type": "execute_result"
    }
   ],
   "source": [
    "titanic.groupby(['sex','pclass']).survived.sum()"
   ]
  },
  {
   "cell_type": "code",
   "execution_count": null,
   "metadata": {},
   "outputs": [],
   "source": []
  },
  {
   "cell_type": "markdown",
   "metadata": {},
   "source": [
    "<hr>\n",
    "Copyright &copy; 2018 Hatem & Driss @NEEDEMAND"
   ]
  }
 ],
 "metadata": {
  "kernelspec": {
   "display_name": "Python 3",
   "language": "python",
   "name": "python3"
  },
  "language_info": {
   "codemirror_mode": {
    "name": "ipython",
    "version": 3
   },
   "file_extension": ".py",
   "mimetype": "text/x-python",
   "name": "python",
   "nbconvert_exporter": "python",
   "pygments_lexer": "ipython3",
   "version": "3.7.0"
  }
 },
 "nbformat": 4,
 "nbformat_minor": 1
}
